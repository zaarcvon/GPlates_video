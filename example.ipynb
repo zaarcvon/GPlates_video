{
 "cells": [
  {
   "cell_type": "code",
   "execution_count": 4,
   "metadata": {},
   "outputs": [],
   "source": [
    "import GPlates_video\n",
    "## Below is function make example video from your set of images. Just press Run on the line above\n",
    "GPlates_video.reconstruction_to_video(images_folder='images',output_video='Atlantic_opening_120-0.avi')\n",
    "'''\n",
    "Function has a list of arguments in brackets() after name. You able to know all arguments and what they mean by place the cursor between () \n",
    "and press  Shift+Tab+Tab.  Try to run cell below and see what happens with output video.\n",
    "'''\n",
    "\n"
   ]
  },
  {
   "cell_type": "code",
   "execution_count": null,
   "metadata": {},
   "outputs": [],
   "source": [
    "## This code return you a video with opposite order of frames. It happens because of text \"descending=False\". \n",
    "GPlates_video.reconstruction_to_video(images_folder='images',output_video='Atlantic_opening_120-0.avi', descending=False)\n"
   ]
  },
  {
   "cell_type": "code",
   "execution_count": 5,
   "metadata": {},
   "outputs": [],
   "source": [
    "### The last example return you a very fast video - \"fps=30\"( means 30 frame per second) without chart -\"chart=False\"\n",
    "GPlates_video.reconstruction_to_video(images_folder='images',output_video='Atlantic_opening_120-0.avi',fps=30, chart=False)\n",
    "\n",
    "###  I hope it helps you with your work!"
   ]
  },
  {
   "cell_type": "code",
   "execution_count": null,
   "metadata": {},
   "outputs": [],
   "source": []
  }
 ],
 "metadata": {
  "kernelspec": {
   "display_name": "Python 2",
   "language": "python",
   "name": "python2"
  },
  "language_info": {
   "codemirror_mode": {
    "name": "ipython",
    "version": 2
   },
   "file_extension": ".py",
   "mimetype": "text/x-python",
   "name": "python",
   "nbconvert_exporter": "python",
   "pygments_lexer": "ipython2",
   "version": "2.7.14"
  }
 },
 "nbformat": 4,
 "nbformat_minor": 2
}
